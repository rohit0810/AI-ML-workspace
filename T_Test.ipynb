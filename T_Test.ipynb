{
  "nbformat": 4,
  "nbformat_minor": 0,
  "metadata": {
    "colab": {
      "provenance": []
    },
    "kernelspec": {
      "name": "python3",
      "display_name": "Python 3"
    },
    "language_info": {
      "name": "python"
    }
  },
  "cells": [
    {
      "cell_type": "markdown",
      "source": [
        "# **t-Test**"
      ],
      "metadata": {
        "id": "azS7I3jDS6rn"
      }
    },
    {
      "cell_type": "markdown",
      "source": [
        "**1st Example**"
      ],
      "metadata": {
        "id": "UiaDG7GFcrJt"
      }
    },
    {
      "cell_type": "code",
      "source": [
        "import numpy as np\n",
        "ages=[12,51,42,44,46,35,15,24,25,35,15,24,25,22,44,36,14,21,11,30,32,31,42]\n",
        "len(ages)"
      ],
      "metadata": {
        "colab": {
          "base_uri": "https://localhost:8080/"
        },
        "id": "UgOPwcmPcpTV",
        "outputId": "cc61bea2-f2a6-4b45-f88e-b601455964fd"
      },
      "execution_count": 87,
      "outputs": [
        {
          "output_type": "execute_result",
          "data": {
            "text/plain": [
              "23"
            ]
          },
          "metadata": {},
          "execution_count": 87
        }
      ]
    },
    {
      "cell_type": "code",
      "source": [
        "ages_mean=np.mean(ages)\n",
        "ages_mean"
      ],
      "metadata": {
        "colab": {
          "base_uri": "https://localhost:8080/"
        },
        "id": "M5UUJlrkT0ZU",
        "outputId": "ef22ba05-cd8e-4148-953f-7ec7ef766143"
      },
      "execution_count": 88,
      "outputs": [
        {
          "output_type": "execute_result",
          "data": {
            "text/plain": [
              "29.391304347826086"
            ]
          },
          "metadata": {},
          "execution_count": 88
        }
      ]
    },
    {
      "cell_type": "code",
      "source": [
        "#One-sample t-test"
      ],
      "metadata": {
        "id": "2Ka87dTaT5K7"
      },
      "execution_count": 89,
      "outputs": []
    },
    {
      "cell_type": "markdown",
      "source": [
        "Validation: Whether there is a difference between sample mean and population mean.\n",
        "\n",
        "Null Hypothesis: There is no difference.\n",
        "\n",
        "Alternate Hypothesis: There is a difference."
      ],
      "metadata": {
        "id": "Gc6HRk_vVJzW"
      }
    },
    {
      "cell_type": "code",
      "source": [
        "#lets take sample\n",
        "sample_size=10\n",
        "age_sample=np.random.choice(ages,sample_size)\n",
        "age_sample"
      ],
      "metadata": {
        "colab": {
          "base_uri": "https://localhost:8080/"
        },
        "id": "0qiplhmNWBcw",
        "outputId": "04bf3036-d128-4b7d-e507-df57811faad0"
      },
      "execution_count": 90,
      "outputs": [
        {
          "output_type": "execute_result",
          "data": {
            "text/plain": [
              "array([12, 51, 12, 36, 24, 32, 11, 15, 44, 35])"
            ]
          },
          "metadata": {},
          "execution_count": 90
        }
      ]
    },
    {
      "cell_type": "code",
      "source": [
        "# prompt: calculate the standard deviation of the age_sample\n",
        "\n",
        "np.std(age_sample)\n"
      ],
      "metadata": {
        "colab": {
          "base_uri": "https://localhost:8080/"
        },
        "id": "eFrSrrXoesxD",
        "outputId": "90adab18-4bae-4215-d729-7b9bbe4135e4"
      },
      "execution_count": 91,
      "outputs": [
        {
          "output_type": "execute_result",
          "data": {
            "text/plain": [
              "13.760813929415658"
            ]
          },
          "metadata": {},
          "execution_count": 91
        }
      ]
    },
    {
      "cell_type": "code",
      "source": [
        "np.mean(age_sample)"
      ],
      "metadata": {
        "colab": {
          "base_uri": "https://localhost:8080/"
        },
        "id": "FGu-ccNOX1T-",
        "outputId": "2421bf2a-d347-4800-9a21-59ee09170869"
      },
      "execution_count": 92,
      "outputs": [
        {
          "output_type": "execute_result",
          "data": {
            "text/plain": [
              "27.2"
            ]
          },
          "metadata": {},
          "execution_count": 92
        }
      ]
    },
    {
      "cell_type": "code",
      "source": [
        "#this package is used only when we perform one sample t-test\n",
        "from scipy.stats import ttest_1samp"
      ],
      "metadata": {
        "id": "y00mCZZfWTLV"
      },
      "execution_count": 93,
      "outputs": []
    },
    {
      "cell_type": "code",
      "source": [
        "ttest,pvalue=ttest_1samp(age_sample,ages_mean)"
      ],
      "metadata": {
        "id": "o9_J0oZDW0z_"
      },
      "execution_count": 94,
      "outputs": []
    },
    {
      "cell_type": "code",
      "source": [
        "pvalue"
      ],
      "metadata": {
        "colab": {
          "base_uri": "https://localhost:8080/"
        },
        "id": "OHOCo00JXteX",
        "outputId": "62d37340-a3d0-452b-80b3-15e0a884b205"
      },
      "execution_count": 95,
      "outputs": [
        {
          "output_type": "execute_result",
          "data": {
            "text/plain": [
              "0.6442335086936801"
            ]
          },
          "metadata": {},
          "execution_count": 95
        }
      ]
    },
    {
      "cell_type": "code",
      "source": [
        "ttest"
      ],
      "metadata": {
        "colab": {
          "base_uri": "https://localhost:8080/"
        },
        "id": "lN79aiEEe4Mj",
        "outputId": "f0482bc6-5d93-4330-be52-51917c97825b"
      },
      "execution_count": 96,
      "outputs": [
        {
          "output_type": "execute_result",
          "data": {
            "text/plain": [
              "-0.47772704995491616"
            ]
          },
          "metadata": {},
          "execution_count": 96
        }
      ]
    },
    {
      "cell_type": "code",
      "source": [
        "if(pvalue<0.05):\n",
        "  print(\"there is a difference and null hypothesis rejected\")\n",
        "else:\n",
        "  print(\"there is no difference and null hypothesis accepted\")"
      ],
      "metadata": {
        "colab": {
          "base_uri": "https://localhost:8080/"
        },
        "id": "DxUzpHG6XxGf",
        "outputId": "28ade0b6-aa11-4691-bb81-3bde98b66a1d"
      },
      "execution_count": 74,
      "outputs": [
        {
          "output_type": "stream",
          "name": "stdout",
          "text": [
            "there is no difference and null hypothesis accepted\n"
          ]
        }
      ]
    },
    {
      "cell_type": "markdown",
      "source": [
        "### **2nd Example**"
      ],
      "metadata": {
        "id": "SZ64c8WIZvHp"
      }
    },
    {
      "cell_type": "code",
      "source": [
        "import numpy as np\n",
        "import pandas as pd\n",
        "import scipy.stats as stats\n",
        "import math"
      ],
      "metadata": {
        "id": "oYvhqGrIZ1WD"
      },
      "execution_count": 99,
      "outputs": []
    },
    {
      "cell_type": "code",
      "source": [
        "school_ages=stats.poisson.rvs(loc=14,mu=30,size=1000)\n",
        "classA_ages=stats.poisson.rvs(loc=16,mu=23,size=50)"
      ],
      "metadata": {
        "id": "vQl9GxVma9RE"
      },
      "execution_count": 100,
      "outputs": []
    },
    {
      "cell_type": "code",
      "source": [
        "ttest,pvalue=ttest_1samp(classA_ages.mean(),school_ages.mean())"
      ],
      "metadata": {
        "id": "NNR2WrdNb0LP"
      },
      "execution_count": 103,
      "outputs": []
    },
    {
      "cell_type": "code",
      "source": [
        "if(pvalue<0.05):\n",
        "  print(\"there is a difference and null hypothesis rejected\")\n",
        "else:\n",
        "  print(\"there is no difference and null hypothesis accepted\")"
      ],
      "metadata": {
        "colab": {
          "base_uri": "https://localhost:8080/"
        },
        "id": "tuR1MO7ScQZ8",
        "outputId": "80f3573e-4aa8-4d40-8980-c1a34524ade6"
      },
      "execution_count": 102,
      "outputs": [
        {
          "output_type": "stream",
          "name": "stdout",
          "text": [
            "there is no difference and null hypothesis accepted\n"
          ]
        }
      ]
    },
    {
      "cell_type": "markdown",
      "source": [
        "### 3rd Example"
      ],
      "metadata": {
        "id": "C7gBt8rWhVSS"
      }
    },
    {
      "cell_type": "code",
      "source": [
        "classA_ages=stats.poisson.rvs(loc=16,mu=23,size=50)\n",
        "classB_ages=stats.poisson.rvs(loc=18,mu=25,size=55)"
      ],
      "metadata": {
        "id": "1ves1_njhYDY"
      },
      "execution_count": 131,
      "outputs": []
    },
    {
      "cell_type": "code",
      "source": [
        "print(np.mean(classA_ages))\n",
        "print(np.mean(classB_ages))"
      ],
      "metadata": {
        "colab": {
          "base_uri": "https://localhost:8080/"
        },
        "id": "eAiwd7TTidab",
        "outputId": "b01ff1a1-f9c7-48e7-ed5b-1f8108caafdf"
      },
      "execution_count": 132,
      "outputs": [
        {
          "output_type": "stream",
          "name": "stdout",
          "text": [
            "37.96\n",
            "43.10909090909091\n"
          ]
        }
      ]
    },
    {
      "cell_type": "code",
      "source": [
        "ttest,pvalue=stats.ttest_ind(a=classA_ages,b=classB_ages,equal_var=False)"
      ],
      "metadata": {
        "id": "L9cDaatohwc3"
      },
      "execution_count": 133,
      "outputs": []
    },
    {
      "cell_type": "code",
      "source": [
        "pvalue"
      ],
      "metadata": {
        "colab": {
          "base_uri": "https://localhost:8080/"
        },
        "id": "k0B4cvKjiNfZ",
        "outputId": "ecc9a5a3-c82e-408e-aec6-f9fd39193fac"
      },
      "execution_count": 134,
      "outputs": [
        {
          "output_type": "execute_result",
          "data": {
            "text/plain": [
              "8.279708691524739e-08"
            ]
          },
          "metadata": {},
          "execution_count": 134
        }
      ]
    },
    {
      "cell_type": "code",
      "source": [
        "if(pvalue<0.05):\n",
        "  print(\"there is a difference and null hypothesis rejected\")\n",
        "else:\n",
        "  print(\"there is no difference and null hypothesis accepted\")"
      ],
      "metadata": {
        "colab": {
          "base_uri": "https://localhost:8080/"
        },
        "id": "LqFHF8hciEgw",
        "outputId": "8b027ff3-bb06-476d-ce7a-5a94419c1d7b"
      },
      "execution_count": 124,
      "outputs": [
        {
          "output_type": "stream",
          "name": "stdout",
          "text": [
            "there is no difference and null hypothesis accepted\n"
          ]
        }
      ]
    },
    {
      "cell_type": "code",
      "source": [],
      "metadata": {
        "id": "UBPe8s24iGpZ"
      },
      "execution_count": null,
      "outputs": []
    }
  ]
}