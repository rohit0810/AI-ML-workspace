{
  "nbformat": 4,
  "nbformat_minor": 0,
  "metadata": {
    "colab": {
      "provenance": []
    },
    "kernelspec": {
      "name": "python3",
      "display_name": "Python 3"
    },
    "language_info": {
      "name": "python"
    }
  },
  "cells": [
    {
      "cell_type": "markdown",
      "source": [
        "# **t-Test**"
      ],
      "metadata": {
        "id": "azS7I3jDS6rn"
      }
    },
    {
      "cell_type": "markdown",
      "source": [
        "**1st Example**"
      ],
      "metadata": {
        "id": "UiaDG7GFcrJt"
      }
    },
    {
      "cell_type": "code",
      "source": [
        "import numpy as np\n",
        "ages=[12,51,42,44,46,35,15,24,25,35,15,24,25,22,44,36,14,21,11,30,32,31,42]\n",
        "len(ages)"
      ],
      "metadata": {
        "colab": {
          "base_uri": "https://localhost:8080/"
        },
        "id": "UgOPwcmPcpTV",
        "outputId": "50e4e736-0977-4c15-b8cb-aa0968f86539"
      },
      "execution_count": 1,
      "outputs": [
        {
          "output_type": "execute_result",
          "data": {
            "text/plain": [
              "23"
            ]
          },
          "metadata": {},
          "execution_count": 1
        }
      ]
    },
    {
      "cell_type": "code",
      "source": [
        "ages_mean=np.mean(ages)\n",
        "ages_mean"
      ],
      "metadata": {
        "colab": {
          "base_uri": "https://localhost:8080/"
        },
        "id": "M5UUJlrkT0ZU",
        "outputId": "85eb8c81-4a9b-4615-c450-b46cad5b42be"
      },
      "execution_count": 2,
      "outputs": [
        {
          "output_type": "execute_result",
          "data": {
            "text/plain": [
              "29.391304347826086"
            ]
          },
          "metadata": {},
          "execution_count": 2
        }
      ]
    },
    {
      "cell_type": "code",
      "source": [
        "#One-sample t-test"
      ],
      "metadata": {
        "id": "2Ka87dTaT5K7"
      },
      "execution_count": 3,
      "outputs": []
    },
    {
      "cell_type": "markdown",
      "source": [
        "Validation: Whether there is a difference between sample mean and population mean.\n",
        "\n",
        "Null Hypothesis: There is no difference.\n",
        "\n",
        "Alternate Hypothesis: There is a difference."
      ],
      "metadata": {
        "id": "Gc6HRk_vVJzW"
      }
    },
    {
      "cell_type": "code",
      "source": [
        "#lets take sample\n",
        "sample_size=10\n",
        "age_sample=np.random.choice(ages,sample_size)\n",
        "age_sample"
      ],
      "metadata": {
        "colab": {
          "base_uri": "https://localhost:8080/"
        },
        "id": "0qiplhmNWBcw",
        "outputId": "3bc93ecf-4917-4398-9bc5-9673b66c7444"
      },
      "execution_count": 4,
      "outputs": [
        {
          "output_type": "execute_result",
          "data": {
            "text/plain": [
              "array([51, 22, 51, 25, 46, 35, 30, 35, 15, 44])"
            ]
          },
          "metadata": {},
          "execution_count": 4
        }
      ]
    },
    {
      "cell_type": "code",
      "source": [
        "# prompt: calculate the standard deviation of the age_sample\n",
        "\n",
        "np.std(age_sample)\n"
      ],
      "metadata": {
        "colab": {
          "base_uri": "https://localhost:8080/"
        },
        "id": "eFrSrrXoesxD",
        "outputId": "d350936d-2e47-4605-bdac-b5a779dfd40a"
      },
      "execution_count": 5,
      "outputs": [
        {
          "output_type": "execute_result",
          "data": {
            "text/plain": [
              "11.859173664298876"
            ]
          },
          "metadata": {},
          "execution_count": 5
        }
      ]
    },
    {
      "cell_type": "code",
      "source": [
        "np.mean(age_sample)"
      ],
      "metadata": {
        "colab": {
          "base_uri": "https://localhost:8080/"
        },
        "id": "FGu-ccNOX1T-",
        "outputId": "a57e3b4d-61b3-480d-8a8c-6dda7c22196c"
      },
      "execution_count": 6,
      "outputs": [
        {
          "output_type": "execute_result",
          "data": {
            "text/plain": [
              "35.4"
            ]
          },
          "metadata": {},
          "execution_count": 6
        }
      ]
    },
    {
      "cell_type": "code",
      "source": [
        "#this package is used only when we perform one sample t-test\n",
        "from scipy.stats import ttest_1samp"
      ],
      "metadata": {
        "id": "y00mCZZfWTLV"
      },
      "execution_count": 7,
      "outputs": []
    },
    {
      "cell_type": "code",
      "source": [
        "ttest,pvalue=ttest_1samp(age_sample,ages_mean)"
      ],
      "metadata": {
        "id": "o9_J0oZDW0z_"
      },
      "execution_count": 8,
      "outputs": []
    },
    {
      "cell_type": "code",
      "source": [
        "pvalue"
      ],
      "metadata": {
        "colab": {
          "base_uri": "https://localhost:8080/"
        },
        "id": "OHOCo00JXteX",
        "outputId": "25273c3f-0c6c-4cc7-9478-aca1201b64f7"
      },
      "execution_count": 9,
      "outputs": [
        {
          "output_type": "execute_result",
          "data": {
            "text/plain": [
              "0.16282901139189615"
            ]
          },
          "metadata": {},
          "execution_count": 9
        }
      ]
    },
    {
      "cell_type": "code",
      "source": [
        "ttest"
      ],
      "metadata": {
        "colab": {
          "base_uri": "https://localhost:8080/"
        },
        "id": "lN79aiEEe4Mj",
        "outputId": "1a277a9c-c367-476c-8989-2caf5181703a"
      },
      "execution_count": 10,
      "outputs": [
        {
          "output_type": "execute_result",
          "data": {
            "text/plain": [
              "1.5200120570616042"
            ]
          },
          "metadata": {},
          "execution_count": 10
        }
      ]
    },
    {
      "cell_type": "code",
      "source": [
        "if(pvalue<0.05):\n",
        "  print(\"there is a difference and null hypothesis rejected\")\n",
        "else:\n",
        "  print(\"there is no difference and null hypothesis accepted\")"
      ],
      "metadata": {
        "colab": {
          "base_uri": "https://localhost:8080/"
        },
        "id": "DxUzpHG6XxGf",
        "outputId": "20b23adc-182d-480e-b688-8356969bbe32"
      },
      "execution_count": 11,
      "outputs": [
        {
          "output_type": "stream",
          "name": "stdout",
          "text": [
            "there is no difference and null hypothesis accepted\n"
          ]
        }
      ]
    },
    {
      "cell_type": "markdown",
      "source": [
        "### **2nd Example**"
      ],
      "metadata": {
        "id": "SZ64c8WIZvHp"
      }
    },
    {
      "cell_type": "code",
      "source": [
        "import numpy as np\n",
        "import pandas as pd\n",
        "import scipy.stats as stats\n",
        "import math"
      ],
      "metadata": {
        "id": "oYvhqGrIZ1WD"
      },
      "execution_count": 12,
      "outputs": []
    },
    {
      "cell_type": "code",
      "source": [
        "school_ages=stats.poisson.rvs(loc=14,mu=30,size=1000)\n",
        "classA_ages=stats.poisson.rvs(loc=16,mu=23,size=50)"
      ],
      "metadata": {
        "id": "vQl9GxVma9RE"
      },
      "execution_count": 13,
      "outputs": []
    },
    {
      "cell_type": "code",
      "source": [
        "ttest,pvalue=ttest_1samp(classA_ages.mean(),school_ages.mean())"
      ],
      "metadata": {
        "colab": {
          "base_uri": "https://localhost:8080/"
        },
        "id": "NNR2WrdNb0LP",
        "outputId": "b90e4587-970e-49e1-ea5c-1620b32c630e"
      },
      "execution_count": 14,
      "outputs": [
        {
          "output_type": "stream",
          "name": "stderr",
          "text": [
            "/usr/local/lib/python3.10/dist-packages/scipy/stats/_stats_py.py:1103: RuntimeWarning: divide by zero encountered in divide\n",
            "  var *= np.divide(n, n-ddof)  # to avoid error on division by zero\n",
            "/usr/local/lib/python3.10/dist-packages/scipy/stats/_stats_py.py:1103: RuntimeWarning: invalid value encountered in double_scalars\n",
            "  var *= np.divide(n, n-ddof)  # to avoid error on division by zero\n"
          ]
        }
      ]
    },
    {
      "cell_type": "code",
      "source": [
        "if(pvalue<0.05):\n",
        "  print(\"there is a difference and null hypothesis rejected\")\n",
        "else:\n",
        "  print(\"there is no difference and null hypothesis accepted\")"
      ],
      "metadata": {
        "colab": {
          "base_uri": "https://localhost:8080/"
        },
        "id": "tuR1MO7ScQZ8",
        "outputId": "b01a7045-8469-4d0f-8aa2-befb281bdc5a"
      },
      "execution_count": 15,
      "outputs": [
        {
          "output_type": "stream",
          "name": "stdout",
          "text": [
            "there is no difference and null hypothesis accepted\n"
          ]
        }
      ]
    },
    {
      "cell_type": "markdown",
      "source": [
        "### 3rd Example"
      ],
      "metadata": {
        "id": "C7gBt8rWhVSS"
      }
    },
    {
      "cell_type": "code",
      "source": [
        "classA_ages=stats.poisson.rvs(loc=16,mu=23,size=50)\n",
        "classB_ages=stats.poisson.rvs(loc=18,mu=25,size=55)"
      ],
      "metadata": {
        "id": "1ves1_njhYDY"
      },
      "execution_count": 16,
      "outputs": []
    },
    {
      "cell_type": "code",
      "source": [
        "print(np.mean(classA_ages))\n",
        "print(np.mean(classB_ages))"
      ],
      "metadata": {
        "colab": {
          "base_uri": "https://localhost:8080/"
        },
        "id": "eAiwd7TTidab",
        "outputId": "97e379ed-ec10-4718-bdb7-7d585e07c5f2"
      },
      "execution_count": 17,
      "outputs": [
        {
          "output_type": "stream",
          "name": "stdout",
          "text": [
            "38.1\n",
            "42.96363636363636\n"
          ]
        }
      ]
    },
    {
      "cell_type": "code",
      "source": [
        "ttest,pvalue=stats.ttest_ind(a=classA_ages,b=classB_ages,equal_var=False)"
      ],
      "metadata": {
        "id": "L9cDaatohwc3"
      },
      "execution_count": 18,
      "outputs": []
    },
    {
      "cell_type": "code",
      "source": [
        "pvalue"
      ],
      "metadata": {
        "colab": {
          "base_uri": "https://localhost:8080/"
        },
        "id": "k0B4cvKjiNfZ",
        "outputId": "98686b8c-0576-4f7f-eb46-6116486cb382"
      },
      "execution_count": 19,
      "outputs": [
        {
          "output_type": "execute_result",
          "data": {
            "text/plain": [
              "4.293098197505231e-07"
            ]
          },
          "metadata": {},
          "execution_count": 19
        }
      ]
    },
    {
      "cell_type": "code",
      "source": [
        "if(pvalue<0.05):\n",
        "  print(\"there is a difference and null hypothesis rejected\")\n",
        "else:\n",
        "  print(\"there is no difference and null hypothesis accepted\")"
      ],
      "metadata": {
        "colab": {
          "base_uri": "https://localhost:8080/"
        },
        "id": "LqFHF8hciEgw",
        "outputId": "18b0f68d-c224-4193-a127-21432a05d28c"
      },
      "execution_count": 20,
      "outputs": [
        {
          "output_type": "stream",
          "name": "stdout",
          "text": [
            "there is a difference and null hypothesis rejected\n"
          ]
        }
      ]
    },
    {
      "cell_type": "code",
      "source": [],
      "metadata": {
        "id": "UBPe8s24iGpZ"
      },
      "execution_count": 20,
      "outputs": []
    }
  ]
}